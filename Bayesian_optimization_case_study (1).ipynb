{
 "cells": [
  {
   "cell_type": "markdown",
   "metadata": {
    "colab_type": "text",
    "id": "WNK7vbHo-KYU"
   },
   "source": [
    "## Bayesian methods of hyperparameter optimization"
   ]
  },
  {
   "cell_type": "markdown",
   "metadata": {
    "colab_type": "text",
    "id": "BlFdvPwF-KYW"
   },
   "source": [
    "In addition to the random search and the grid search methods for selecting optimal hyperparameters, we can use Bayesian methods of probabilities to select the optimal hyperparameters for an algorithm.\n",
    "\n",
    "In this case study, we will be using the BayesianOptimization library to perform hyperparmater tuning. This library has very good documentation which you can find here: https://github.com/fmfn/BayesianOptimization\n",
    "\n",
    "You will need to install the Bayesian optimization module. Running a cell with an exclamation point in the beginning of the command will run it as a shell command — please do this to install this module from our notebook in the cell below."
   ]
  },
  {
   "cell_type": "code",
   "execution_count": 1,
   "metadata": {
    "colab": {},
    "colab_type": "code",
    "id": "Pssx080d-Ulf"
   },
   "outputs": [
    {
     "name": "stdout",
     "output_type": "stream",
     "text": [
      "Collecting bayesian-optimization\n",
      "  Downloading bayesian_optimization-2.0.3-py3-none-any.whl.metadata (9.0 kB)\n",
      "Collecting lightgbm\n",
      "  Downloading lightgbm-4.5.0-py3-none-win_amd64.whl.metadata (17 kB)\n",
      "Collecting catboost\n",
      "  Downloading catboost-1.2.7-cp311-cp311-win_amd64.whl.metadata (1.2 kB)\n",
      "Requirement already satisfied: colorama<0.5.0,>=0.4.6 in c:\\users\\mercy\\anaconda3\\lib\\site-packages (from bayesian-optimization) (0.4.6)\n",
      "Requirement already satisfied: numpy>=1.25 in c:\\users\\mercy\\anaconda3\\lib\\site-packages (from bayesian-optimization) (1.26.4)\n",
      "Requirement already satisfied: scikit-learn<2.0.0,>=1.0.0 in c:\\users\\mercy\\anaconda3\\lib\\site-packages (from bayesian-optimization) (1.2.2)\n",
      "Requirement already satisfied: scipy<2.0.0,>=1.0.0 in c:\\users\\mercy\\anaconda3\\lib\\site-packages (from bayesian-optimization) (1.11.4)\n",
      "Collecting graphviz (from catboost)\n",
      "  Downloading graphviz-0.20.3-py3-none-any.whl.metadata (12 kB)\n",
      "Requirement already satisfied: matplotlib in c:\\users\\mercy\\anaconda3\\lib\\site-packages (from catboost) (3.8.0)\n",
      "Requirement already satisfied: pandas>=0.24 in c:\\users\\mercy\\anaconda3\\lib\\site-packages (from catboost) (2.1.4)\n",
      "Requirement already satisfied: plotly in c:\\users\\mercy\\anaconda3\\lib\\site-packages (from catboost) (5.9.0)\n",
      "Requirement already satisfied: six in c:\\users\\mercy\\anaconda3\\lib\\site-packages (from catboost) (1.16.0)\n",
      "Requirement already satisfied: python-dateutil>=2.8.2 in c:\\users\\mercy\\anaconda3\\lib\\site-packages (from pandas>=0.24->catboost) (2.8.2)\n",
      "Requirement already satisfied: pytz>=2020.1 in c:\\users\\mercy\\anaconda3\\lib\\site-packages (from pandas>=0.24->catboost) (2023.3.post1)\n",
      "Requirement already satisfied: tzdata>=2022.1 in c:\\users\\mercy\\anaconda3\\lib\\site-packages (from pandas>=0.24->catboost) (2023.3)\n",
      "Requirement already satisfied: joblib>=1.1.1 in c:\\users\\mercy\\anaconda3\\lib\\site-packages (from scikit-learn<2.0.0,>=1.0.0->bayesian-optimization) (1.2.0)\n",
      "Requirement already satisfied: threadpoolctl>=2.0.0 in c:\\users\\mercy\\anaconda3\\lib\\site-packages (from scikit-learn<2.0.0,>=1.0.0->bayesian-optimization) (2.2.0)\n",
      "Requirement already satisfied: contourpy>=1.0.1 in c:\\users\\mercy\\anaconda3\\lib\\site-packages (from matplotlib->catboost) (1.2.0)\n",
      "Requirement already satisfied: cycler>=0.10 in c:\\users\\mercy\\anaconda3\\lib\\site-packages (from matplotlib->catboost) (0.11.0)\n",
      "Requirement already satisfied: fonttools>=4.22.0 in c:\\users\\mercy\\anaconda3\\lib\\site-packages (from matplotlib->catboost) (4.25.0)\n",
      "Requirement already satisfied: kiwisolver>=1.0.1 in c:\\users\\mercy\\anaconda3\\lib\\site-packages (from matplotlib->catboost) (1.4.4)\n",
      "Requirement already satisfied: packaging>=20.0 in c:\\users\\mercy\\anaconda3\\lib\\site-packages (from matplotlib->catboost) (23.1)\n",
      "Requirement already satisfied: pillow>=6.2.0 in c:\\users\\mercy\\anaconda3\\lib\\site-packages (from matplotlib->catboost) (10.2.0)\n",
      "Requirement already satisfied: pyparsing>=2.3.1 in c:\\users\\mercy\\anaconda3\\lib\\site-packages (from matplotlib->catboost) (3.0.9)\n",
      "Requirement already satisfied: tenacity>=6.2.0 in c:\\users\\mercy\\anaconda3\\lib\\site-packages (from plotly->catboost) (8.2.2)\n",
      "Downloading bayesian_optimization-2.0.3-py3-none-any.whl (31 kB)\n",
      "Downloading lightgbm-4.5.0-py3-none-win_amd64.whl (1.4 MB)\n",
      "   ---------------------------------------- 0.0/1.4 MB ? eta -:--:--\n",
      "   --- ------------------------------------ 0.1/1.4 MB 3.3 MB/s eta 0:00:01\n",
      "   ------ --------------------------------- 0.2/1.4 MB 2.9 MB/s eta 0:00:01\n",
      "   ----------- ---------------------------- 0.4/1.4 MB 3.1 MB/s eta 0:00:01\n",
      "   ---------------- ----------------------- 0.6/1.4 MB 3.8 MB/s eta 0:00:01\n",
      "   ----------------------- ---------------- 0.8/1.4 MB 3.9 MB/s eta 0:00:01\n",
      "   ------------------------------ --------- 1.1/1.4 MB 4.3 MB/s eta 0:00:01\n",
      "   ------------------------------------ --- 1.3/1.4 MB 4.2 MB/s eta 0:00:01\n",
      "   ---------------------------------------  1.4/1.4 MB 4.4 MB/s eta 0:00:01\n",
      "   ---------------------------------------- 1.4/1.4 MB 3.8 MB/s eta 0:00:00\n",
      "Downloading catboost-1.2.7-cp311-cp311-win_amd64.whl (101.7 MB)\n",
      "   ---------------------------------------- 0.0/101.7 MB ? eta -:--:--\n",
      "   ---------------------------------------- 0.1/101.7 MB ? eta -:--:--\n",
      "   ---------------------------------------- 0.3/101.7 MB 3.9 MB/s eta 0:00:27\n",
      "   ---------------------------------------- 0.6/101.7 MB 4.4 MB/s eta 0:00:23\n",
      "   ---------------------------------------- 0.9/101.7 MB 4.7 MB/s eta 0:00:22\n",
      "   ---------------------------------------- 1.2/101.7 MB 4.9 MB/s eta 0:00:21\n",
      "    --------------------------------------- 1.4/101.7 MB 4.9 MB/s eta 0:00:21\n",
      "    --------------------------------------- 1.6/101.7 MB 5.1 MB/s eta 0:00:20\n",
      "    --------------------------------------- 1.9/101.7 MB 5.0 MB/s eta 0:00:20\n",
      "    --------------------------------------- 2.1/101.7 MB 5.0 MB/s eta 0:00:20\n",
      "    --------------------------------------- 2.4/101.7 MB 5.0 MB/s eta 0:00:20\n",
      "   - -------------------------------------- 2.6/101.7 MB 5.2 MB/s eta 0:00:20\n",
      "   - -------------------------------------- 2.9/101.7 MB 5.1 MB/s eta 0:00:20\n",
      "   - -------------------------------------- 3.2/101.7 MB 5.2 MB/s eta 0:00:20\n",
      "   - -------------------------------------- 3.5/101.7 MB 5.2 MB/s eta 0:00:19\n",
      "   - -------------------------------------- 3.7/101.7 MB 5.4 MB/s eta 0:00:19\n",
      "   - -------------------------------------- 4.0/101.7 MB 5.4 MB/s eta 0:00:19\n",
      "   - -------------------------------------- 4.4/101.7 MB 5.5 MB/s eta 0:00:18\n",
      "   - -------------------------------------- 4.6/101.7 MB 5.5 MB/s eta 0:00:18\n",
      "   - -------------------------------------- 5.0/101.7 MB 5.6 MB/s eta 0:00:18\n",
      "   -- ------------------------------------- 5.3/101.7 MB 5.6 MB/s eta 0:00:18\n",
      "   -- ------------------------------------- 5.6/101.7 MB 5.7 MB/s eta 0:00:17\n",
      "   -- ------------------------------------- 5.9/101.7 MB 5.7 MB/s eta 0:00:17\n",
      "   -- ------------------------------------- 6.2/101.7 MB 5.8 MB/s eta 0:00:17\n",
      "   -- ------------------------------------- 6.6/101.7 MB 5.8 MB/s eta 0:00:17\n",
      "   -- ------------------------------------- 6.9/101.7 MB 5.9 MB/s eta 0:00:17\n",
      "   -- ------------------------------------- 7.2/101.7 MB 5.9 MB/s eta 0:00:17\n",
      "   -- ------------------------------------- 7.5/101.7 MB 5.9 MB/s eta 0:00:16\n",
      "   --- ------------------------------------ 7.8/101.7 MB 5.9 MB/s eta 0:00:16\n",
      "   --- ------------------------------------ 8.2/101.7 MB 6.0 MB/s eta 0:00:16\n",
      "   --- ------------------------------------ 8.5/101.7 MB 6.0 MB/s eta 0:00:16\n",
      "   --- ------------------------------------ 8.8/101.7 MB 6.0 MB/s eta 0:00:16\n",
      "   --- ------------------------------------ 9.1/101.7 MB 6.0 MB/s eta 0:00:16\n",
      "   --- ------------------------------------ 9.4/101.7 MB 6.1 MB/s eta 0:00:16\n",
      "   --- ------------------------------------ 9.7/101.7 MB 6.1 MB/s eta 0:00:16\n",
      "   --- ------------------------------------ 10.0/101.7 MB 6.1 MB/s eta 0:00:16\n",
      "   ---- ----------------------------------- 10.3/101.7 MB 6.1 MB/s eta 0:00:16\n",
      "   ---- ----------------------------------- 10.6/101.7 MB 6.2 MB/s eta 0:00:15\n",
      "   ---- ----------------------------------- 11.0/101.7 MB 6.3 MB/s eta 0:00:15\n",
      "   ---- ----------------------------------- 11.3/101.7 MB 6.4 MB/s eta 0:00:15\n",
      "   ---- ----------------------------------- 11.7/101.7 MB 6.4 MB/s eta 0:00:15\n",
      "   ---- ----------------------------------- 12.0/101.7 MB 6.5 MB/s eta 0:00:14\n",
      "   ---- ----------------------------------- 12.3/101.7 MB 6.5 MB/s eta 0:00:14\n",
      "   ---- ----------------------------------- 12.7/101.7 MB 6.6 MB/s eta 0:00:14\n",
      "   ----- ---------------------------------- 13.0/101.7 MB 6.6 MB/s eta 0:00:14\n",
      "   ----- ---------------------------------- 13.3/101.7 MB 6.7 MB/s eta 0:00:14\n",
      "   ----- ---------------------------------- 13.7/101.7 MB 6.8 MB/s eta 0:00:14\n",
      "   ----- ---------------------------------- 14.0/101.7 MB 6.8 MB/s eta 0:00:13\n",
      "   ----- ---------------------------------- 14.3/101.7 MB 6.7 MB/s eta 0:00:13\n",
      "   ----- ---------------------------------- 14.6/101.7 MB 6.8 MB/s eta 0:00:13\n",
      "   ----- ---------------------------------- 15.0/101.7 MB 6.8 MB/s eta 0:00:13\n",
      "   ------ --------------------------------- 15.4/101.7 MB 6.9 MB/s eta 0:00:13\n",
      "   ------ --------------------------------- 15.8/101.7 MB 6.9 MB/s eta 0:00:13\n",
      "   ------ --------------------------------- 16.1/101.7 MB 7.0 MB/s eta 0:00:13\n",
      "   ------ --------------------------------- 16.5/101.7 MB 7.0 MB/s eta 0:00:13\n",
      "   ------ --------------------------------- 17.0/101.7 MB 7.0 MB/s eta 0:00:13\n",
      "   ------ --------------------------------- 17.4/101.7 MB 7.2 MB/s eta 0:00:12\n",
      "   ------ --------------------------------- 17.8/101.7 MB 7.3 MB/s eta 0:00:12\n",
      "   ------- -------------------------------- 18.2/101.7 MB 7.4 MB/s eta 0:00:12\n",
      "   ------- -------------------------------- 18.7/101.7 MB 7.4 MB/s eta 0:00:12\n",
      "   ------- -------------------------------- 19.1/101.7 MB 7.5 MB/s eta 0:00:11\n",
      "   ------- -------------------------------- 19.2/101.7 MB 7.6 MB/s eta 0:00:11\n",
      "   ------- -------------------------------- 19.8/101.7 MB 7.7 MB/s eta 0:00:11\n",
      "   ------- -------------------------------- 20.2/101.7 MB 7.7 MB/s eta 0:00:11\n",
      "   -------- ------------------------------- 20.6/101.7 MB 7.8 MB/s eta 0:00:11\n",
      "   -------- ------------------------------- 21.0/101.7 MB 7.8 MB/s eta 0:00:11\n",
      "   -------- ------------------------------- 21.3/101.7 MB 7.9 MB/s eta 0:00:11\n",
      "   -------- ------------------------------- 21.8/101.7 MB 8.0 MB/s eta 0:00:11\n",
      "   -------- ------------------------------- 22.2/101.7 MB 8.0 MB/s eta 0:00:10\n",
      "   -------- ------------------------------- 22.6/101.7 MB 8.1 MB/s eta 0:00:10\n",
      "   --------- ------------------------------ 23.0/101.7 MB 8.1 MB/s eta 0:00:10\n",
      "   --------- ------------------------------ 23.3/101.7 MB 8.2 MB/s eta 0:00:10\n",
      "   --------- ------------------------------ 23.6/101.7 MB 8.2 MB/s eta 0:00:10\n",
      "   --------- ------------------------------ 24.1/101.7 MB 8.3 MB/s eta 0:00:10\n",
      "   --------- ------------------------------ 24.5/101.7 MB 8.4 MB/s eta 0:00:10\n",
      "   --------- ------------------------------ 24.8/101.7 MB 8.4 MB/s eta 0:00:10\n",
      "   --------- ------------------------------ 25.2/101.7 MB 8.4 MB/s eta 0:00:10\n",
      "   ---------- ----------------------------- 25.6/101.7 MB 8.4 MB/s eta 0:00:10\n",
      "   ---------- ----------------------------- 26.0/101.7 MB 8.5 MB/s eta 0:00:09\n",
      "   ---------- ----------------------------- 26.4/101.7 MB 8.5 MB/s eta 0:00:09\n",
      "   ---------- ----------------------------- 26.8/101.7 MB 8.6 MB/s eta 0:00:09\n",
      "   ---------- ----------------------------- 27.2/101.7 MB 8.5 MB/s eta 0:00:09\n",
      "   ---------- ----------------------------- 27.7/101.7 MB 8.6 MB/s eta 0:00:09\n",
      "   ----------- ---------------------------- 28.1/101.7 MB 8.6 MB/s eta 0:00:09\n",
      "   ----------- ---------------------------- 28.6/101.7 MB 8.7 MB/s eta 0:00:09\n",
      "   ----------- ---------------------------- 29.0/101.7 MB 8.7 MB/s eta 0:00:09\n",
      "   ----------- ---------------------------- 29.5/101.7 MB 9.0 MB/s eta 0:00:09\n",
      "   ----------- ---------------------------- 29.9/101.7 MB 8.7 MB/s eta 0:00:09\n",
      "   ----------- ---------------------------- 30.4/101.7 MB 8.8 MB/s eta 0:00:09\n",
      "   ------------ --------------------------- 30.9/101.7 MB 9.0 MB/s eta 0:00:08\n",
      "   ------------ --------------------------- 31.1/101.7 MB 8.8 MB/s eta 0:00:08\n",
      "   ------------ --------------------------- 31.7/101.7 MB 9.2 MB/s eta 0:00:08\n",
      "   ------------ --------------------------- 32.1/101.7 MB 9.1 MB/s eta 0:00:08\n",
      "   ------------ --------------------------- 32.5/101.7 MB 9.1 MB/s eta 0:00:08\n",
      "   ------------ --------------------------- 32.9/101.7 MB 9.1 MB/s eta 0:00:08\n",
      "   ------------- -------------------------- 33.2/101.7 MB 9.1 MB/s eta 0:00:08\n",
      "   ------------- -------------------------- 33.7/101.7 MB 9.4 MB/s eta 0:00:08\n",
      "   ------------- -------------------------- 34.2/101.7 MB 9.4 MB/s eta 0:00:08\n",
      "   ------------- -------------------------- 34.5/101.7 MB 9.5 MB/s eta 0:00:08\n",
      "   ------------- -------------------------- 35.1/101.7 MB 9.8 MB/s eta 0:00:07\n",
      "   ------------- -------------------------- 35.5/101.7 MB 9.8 MB/s eta 0:00:07\n",
      "   -------------- ------------------------- 35.6/101.7 MB 9.8 MB/s eta 0:00:07\n",
      "   -------------- ------------------------- 35.8/101.7 MB 9.0 MB/s eta 0:00:08\n",
      "   -------------- ------------------------- 36.2/101.7 MB 9.1 MB/s eta 0:00:08\n",
      "   -------------- ------------------------- 36.7/101.7 MB 9.1 MB/s eta 0:00:08\n",
      "   -------------- ------------------------- 37.1/101.7 MB 9.2 MB/s eta 0:00:08\n",
      "   -------------- ------------------------- 37.5/101.7 MB 9.2 MB/s eta 0:00:07\n",
      "   -------------- ------------------------- 37.9/101.7 MB 9.2 MB/s eta 0:00:07\n",
      "   --------------- ------------------------ 38.5/101.7 MB 9.2 MB/s eta 0:00:07\n",
      "   --------------- ------------------------ 38.9/101.7 MB 9.4 MB/s eta 0:00:07\n",
      "   --------------- ------------------------ 39.5/101.7 MB 9.4 MB/s eta 0:00:07\n",
      "   --------------- ------------------------ 39.9/101.7 MB 9.5 MB/s eta 0:00:07\n",
      "   --------------- ------------------------ 40.3/101.7 MB 9.5 MB/s eta 0:00:07\n",
      "   ---------------- ----------------------- 40.8/101.7 MB 9.5 MB/s eta 0:00:07\n",
      "   ---------------- ----------------------- 41.3/101.7 MB 9.8 MB/s eta 0:00:07\n",
      "   ---------------- ----------------------- 41.6/101.7 MB 9.5 MB/s eta 0:00:07\n",
      "   ---------------- ----------------------- 42.3/101.7 MB 9.6 MB/s eta 0:00:07\n",
      "   ---------------- ----------------------- 42.9/101.7 MB 9.8 MB/s eta 0:00:07\n",
      "   ----------------- ---------------------- 43.3/101.7 MB 9.8 MB/s eta 0:00:06\n",
      "   ----------------- ---------------------- 43.9/101.7 MB 9.8 MB/s eta 0:00:06\n",
      "   ----------------- ---------------------- 44.3/101.7 MB 9.8 MB/s eta 0:00:06\n",
      "   ----------------- ---------------------- 44.8/101.7 MB 10.1 MB/s eta 0:00:06\n",
      "   ----------------- ---------------------- 45.2/101.7 MB 9.9 MB/s eta 0:00:06\n",
      "   ----------------- ---------------------- 45.6/101.7 MB 10.1 MB/s eta 0:00:06\n",
      "   ------------------ --------------------- 46.2/101.7 MB 10.9 MB/s eta 0:00:06\n",
      "   ------------------ --------------------- 46.6/101.7 MB 10.9 MB/s eta 0:00:06\n",
      "   ------------------ --------------------- 47.1/101.7 MB 10.9 MB/s eta 0:00:06\n",
      "   ------------------ --------------------- 47.6/101.7 MB 10.9 MB/s eta 0:00:05\n",
      "   ------------------ --------------------- 48.1/101.7 MB 11.3 MB/s eta 0:00:05\n",
      "   ------------------- -------------------- 48.6/101.7 MB 11.1 MB/s eta 0:00:05\n",
      "   ------------------- -------------------- 49.2/101.7 MB 11.1 MB/s eta 0:00:05\n",
      "   ------------------- -------------------- 49.7/101.7 MB 11.1 MB/s eta 0:00:05\n",
      "   ------------------- -------------------- 50.0/101.7 MB 11.3 MB/s eta 0:00:05\n",
      "   ------------------- -------------------- 50.5/101.7 MB 11.3 MB/s eta 0:00:05\n",
      "   -------------------- ------------------- 50.9/101.7 MB 11.1 MB/s eta 0:00:05\n",
      "   -------------------- ------------------- 51.4/101.7 MB 11.1 MB/s eta 0:00:05\n",
      "   -------------------- ------------------- 51.9/101.7 MB 11.7 MB/s eta 0:00:05\n",
      "   -------------------- ------------------- 52.4/101.7 MB 11.3 MB/s eta 0:00:05\n",
      "   -------------------- ------------------- 52.9/101.7 MB 11.3 MB/s eta 0:00:05\n",
      "   -------------------- ------------------- 53.4/101.7 MB 11.3 MB/s eta 0:00:05\n",
      "   --------------------- ------------------ 53.9/101.7 MB 11.3 MB/s eta 0:00:05\n",
      "   --------------------- ------------------ 54.4/101.7 MB 11.1 MB/s eta 0:00:05\n",
      "   --------------------- ------------------ 55.0/101.7 MB 11.3 MB/s eta 0:00:05\n",
      "   --------------------- ------------------ 55.5/101.7 MB 11.1 MB/s eta 0:00:05\n",
      "   ---------------------- ----------------- 56.0/101.7 MB 11.3 MB/s eta 0:00:05\n",
      "   ---------------------- ----------------- 56.6/101.7 MB 11.1 MB/s eta 0:00:05\n",
      "   ---------------------- ----------------- 57.2/101.7 MB 11.5 MB/s eta 0:00:04\n",
      "   ---------------------- ----------------- 57.7/101.7 MB 11.3 MB/s eta 0:00:04\n",
      "   ---------------------- ----------------- 58.2/101.7 MB 11.5 MB/s eta 0:00:04\n",
      "   ----------------------- ---------------- 58.9/101.7 MB 11.5 MB/s eta 0:00:04\n",
      "   ----------------------- ---------------- 59.4/101.7 MB 11.3 MB/s eta 0:00:04\n",
      "   ----------------------- ---------------- 59.9/101.7 MB 11.5 MB/s eta 0:00:04\n",
      "   ----------------------- ---------------- 60.5/101.7 MB 11.5 MB/s eta 0:00:04\n",
      "   ------------------------ --------------- 61.1/101.7 MB 11.9 MB/s eta 0:00:04\n",
      "   ------------------------ --------------- 61.7/101.7 MB 11.9 MB/s eta 0:00:04\n",
      "   ------------------------ --------------- 62.2/101.7 MB 11.9 MB/s eta 0:00:04\n",
      "   ------------------------ --------------- 62.7/101.7 MB 12.1 MB/s eta 0:00:04\n",
      "   ------------------------ --------------- 63.2/101.7 MB 12.1 MB/s eta 0:00:04\n",
      "   ------------------------- -------------- 63.7/101.7 MB 11.9 MB/s eta 0:00:04\n",
      "   ------------------------- -------------- 64.3/101.7 MB 12.1 MB/s eta 0:00:04\n",
      "   ------------------------- -------------- 65.0/101.7 MB 12.1 MB/s eta 0:00:04\n",
      "   ------------------------- -------------- 65.5/101.7 MB 12.1 MB/s eta 0:00:03\n",
      "   -------------------------- ------------- 66.2/101.7 MB 12.4 MB/s eta 0:00:03\n",
      "   -------------------------- ------------- 66.9/101.7 MB 12.6 MB/s eta 0:00:03\n",
      "   -------------------------- ------------- 67.5/101.7 MB 12.6 MB/s eta 0:00:03\n",
      "   -------------------------- ------------- 67.6/101.7 MB 12.1 MB/s eta 0:00:03\n",
      "   -------------------------- ------------- 68.5/101.7 MB 12.8 MB/s eta 0:00:03\n",
      "   --------------------------- ------------ 69.1/101.7 MB 12.8 MB/s eta 0:00:03\n",
      "   --------------------------- ------------ 69.5/101.7 MB 12.6 MB/s eta 0:00:03\n",
      "   --------------------------- ------------ 70.1/101.7 MB 12.6 MB/s eta 0:00:03\n",
      "   --------------------------- ------------ 70.6/101.7 MB 12.8 MB/s eta 0:00:03\n",
      "   --------------------------- ------------ 71.1/101.7 MB 12.6 MB/s eta 0:00:03\n",
      "   ---------------------------- ----------- 71.8/101.7 MB 12.6 MB/s eta 0:00:03\n",
      "   ---------------------------- ----------- 72.4/101.7 MB 12.6 MB/s eta 0:00:03\n",
      "   ---------------------------- ----------- 72.8/101.7 MB 12.8 MB/s eta 0:00:03\n",
      "   ---------------------------- ----------- 73.4/101.7 MB 12.6 MB/s eta 0:00:03\n",
      "   ----------------------------- ---------- 73.8/101.7 MB 12.6 MB/s eta 0:00:03\n",
      "   ----------------------------- ---------- 74.4/101.7 MB 12.8 MB/s eta 0:00:03\n",
      "   ----------------------------- ---------- 74.9/101.7 MB 12.8 MB/s eta 0:00:03\n",
      "   ----------------------------- ---------- 75.4/101.7 MB 12.6 MB/s eta 0:00:03\n",
      "   ----------------------------- ---------- 75.9/101.7 MB 12.4 MB/s eta 0:00:03\n",
      "   ------------------------------ --------- 76.5/101.7 MB 12.6 MB/s eta 0:00:03\n",
      "   ------------------------------ --------- 77.2/101.7 MB 12.9 MB/s eta 0:00:02\n",
      "   ------------------------------ --------- 77.6/101.7 MB 12.4 MB/s eta 0:00:02\n",
      "   ------------------------------ --------- 78.1/101.7 MB 13.1 MB/s eta 0:00:02\n",
      "   ------------------------------ --------- 78.4/101.7 MB 12.4 MB/s eta 0:00:02\n",
      "   ------------------------------ --------- 78.8/101.7 MB 12.1 MB/s eta 0:00:02\n",
      "   ------------------------------- -------- 79.2/101.7 MB 11.9 MB/s eta 0:00:02\n",
      "   ------------------------------- -------- 79.6/101.7 MB 11.9 MB/s eta 0:00:02\n",
      "   ------------------------------- -------- 80.1/101.7 MB 11.9 MB/s eta 0:00:02\n",
      "   ------------------------------- -------- 80.5/101.7 MB 11.7 MB/s eta 0:00:02\n",
      "   ------------------------------- -------- 80.9/101.7 MB 11.5 MB/s eta 0:00:02\n",
      "   ------------------------------- -------- 81.3/101.7 MB 11.5 MB/s eta 0:00:02\n",
      "   -------------------------------- ------- 81.5/101.7 MB 11.5 MB/s eta 0:00:02\n",
      "   -------------------------------- ------- 82.1/101.7 MB 11.1 MB/s eta 0:00:02\n",
      "   -------------------------------- ------- 82.7/101.7 MB 10.9 MB/s eta 0:00:02\n",
      "   -------------------------------- ------- 83.1/101.7 MB 10.9 MB/s eta 0:00:02\n",
      "   -------------------------------- ------- 83.7/101.7 MB 10.9 MB/s eta 0:00:02\n",
      "   --------------------------------- ------ 84.2/101.7 MB 10.9 MB/s eta 0:00:02\n",
      "   --------------------------------- ------ 84.6/101.7 MB 10.7 MB/s eta 0:00:02\n",
      "   --------------------------------- ------ 85.1/101.7 MB 10.7 MB/s eta 0:00:02\n",
      "   --------------------------------- ------ 85.5/101.7 MB 10.7 MB/s eta 0:00:02\n",
      "   --------------------------------- ------ 85.9/101.7 MB 10.4 MB/s eta 0:00:02\n",
      "   --------------------------------- ------ 86.2/101.7 MB 10.2 MB/s eta 0:00:02\n",
      "   ---------------------------------- ----- 86.5/101.7 MB 10.1 MB/s eta 0:00:02\n",
      "   ---------------------------------- ----- 86.8/101.7 MB 9.9 MB/s eta 0:00:02\n",
      "   ---------------------------------- ----- 87.2/101.7 MB 9.6 MB/s eta 0:00:02\n",
      "   ---------------------------------- ----- 87.5/101.7 MB 9.6 MB/s eta 0:00:02\n",
      "   ---------------------------------- ----- 87.9/101.7 MB 9.5 MB/s eta 0:00:02\n",
      "   ---------------------------------- ----- 88.3/101.7 MB 9.2 MB/s eta 0:00:02\n",
      "   ---------------------------------- ----- 88.7/101.7 MB 9.2 MB/s eta 0:00:02\n",
      "   ----------------------------------- ---- 89.0/101.7 MB 9.2 MB/s eta 0:00:02\n",
      "   ----------------------------------- ---- 89.4/101.7 MB 9.2 MB/s eta 0:00:02\n",
      "   ----------------------------------- ---- 89.8/101.7 MB 9.2 MB/s eta 0:00:02\n",
      "   ----------------------------------- ---- 90.3/101.7 MB 9.1 MB/s eta 0:00:02\n",
      "   ----------------------------------- ---- 90.6/101.7 MB 9.0 MB/s eta 0:00:02\n",
      "   ----------------------------------- ---- 91.0/101.7 MB 9.0 MB/s eta 0:00:02\n",
      "   ----------------------------------- ---- 91.4/101.7 MB 8.8 MB/s eta 0:00:02\n",
      "   ------------------------------------ --- 91.8/101.7 MB 9.2 MB/s eta 0:00:02\n",
      "   ------------------------------------ --- 92.2/101.7 MB 9.0 MB/s eta 0:00:02\n",
      "   ------------------------------------ --- 92.5/101.7 MB 8.8 MB/s eta 0:00:02\n",
      "   ------------------------------------ --- 92.8/101.7 MB 8.8 MB/s eta 0:00:02\n",
      "   ------------------------------------ --- 93.1/101.7 MB 8.6 MB/s eta 0:00:01\n",
      "   ------------------------------------ --- 93.5/101.7 MB 8.5 MB/s eta 0:00:01\n",
      "   ------------------------------------ --- 94.0/101.7 MB 8.6 MB/s eta 0:00:01\n",
      "   ------------------------------------- -- 94.3/101.7 MB 8.6 MB/s eta 0:00:01\n",
      "   ------------------------------------- -- 94.8/101.7 MB 8.5 MB/s eta 0:00:01\n",
      "   ------------------------------------- -- 95.2/101.7 MB 8.4 MB/s eta 0:00:01\n",
      "   ------------------------------------- -- 95.5/101.7 MB 8.5 MB/s eta 0:00:01\n",
      "   ------------------------------------- -- 96.0/101.7 MB 8.4 MB/s eta 0:00:01\n",
      "   ------------------------------------- -- 96.5/101.7 MB 8.5 MB/s eta 0:00:01\n",
      "   -------------------------------------- - 96.9/101.7 MB 8.6 MB/s eta 0:00:01\n",
      "   -------------------------------------- - 97.2/101.7 MB 8.6 MB/s eta 0:00:01\n",
      "   -------------------------------------- - 97.6/101.7 MB 8.7 MB/s eta 0:00:01\n",
      "   -------------------------------------- - 98.0/101.7 MB 8.6 MB/s eta 0:00:01\n",
      "   -------------------------------------- - 98.4/101.7 MB 8.6 MB/s eta 0:00:01\n",
      "   -------------------------------------- - 98.7/101.7 MB 8.7 MB/s eta 0:00:01\n",
      "   -------------------------------------- - 99.1/101.7 MB 8.7 MB/s eta 0:00:01\n",
      "   ---------------------------------------  99.5/101.7 MB 8.7 MB/s eta 0:00:01\n",
      "   ---------------------------------------  99.8/101.7 MB 8.8 MB/s eta 0:00:01\n",
      "   ---------------------------------------  100.2/101.7 MB 8.7 MB/s eta 0:00:01\n",
      "   ---------------------------------------  100.5/101.7 MB 8.7 MB/s eta 0:00:01\n",
      "   ---------------------------------------  100.9/101.7 MB 8.8 MB/s eta 0:00:01\n",
      "   ---------------------------------------  101.3/101.7 MB 8.8 MB/s eta 0:00:01\n",
      "   ---------------------------------------  101.7/101.7 MB 9.2 MB/s eta 0:00:01\n",
      "   ---------------------------------------  101.7/101.7 MB 9.2 MB/s eta 0:00:01\n",
      "   ---------------------------------------  101.7/101.7 MB 9.2 MB/s eta 0:00:01\n",
      "   ---------------------------------------  101.7/101.7 MB 9.2 MB/s eta 0:00:01\n",
      "   ---------------------------------------  101.7/101.7 MB 9.2 MB/s eta 0:00:01\n",
      "   ---------------------------------------  101.7/101.7 MB 9.2 MB/s eta 0:00:01\n",
      "   ---------------------------------------  101.7/101.7 MB 9.2 MB/s eta 0:00:01\n",
      "   ---------------------------------------  101.7/101.7 MB 9.2 MB/s eta 0:00:01\n",
      "   ---------------------------------------- 101.7/101.7 MB 6.9 MB/s eta 0:00:00\n",
      "Downloading graphviz-0.20.3-py3-none-any.whl (47 kB)\n",
      "   ---------------------------------------- 0.0/47.1 kB ? eta -:--:--\n",
      "   ---------------------------------------- 47.1/47.1 kB ? eta 0:00:00\n",
      "Installing collected packages: graphviz, lightgbm, catboost, bayesian-optimization\n",
      "Successfully installed bayesian-optimization-2.0.3 catboost-1.2.7 graphviz-0.20.3 lightgbm-4.5.0\n"
     ]
    }
   ],
   "source": [
    "! pip install bayesian-optimization lightgbm catboost"
   ]
  },
  {
   "cell_type": "code",
   "execution_count": 2,
   "metadata": {
    "ExecuteTime": {
     "end_time": "2019-04-22T16:39:09.312682Z",
     "start_time": "2019-04-22T16:39:09.309208Z"
    },
    "_kg_hide-input": true,
    "colab": {},
    "colab_type": "code",
    "id": "l9nfFTyj-KYY"
   },
   "outputs": [],
   "source": [
    "import warnings\n",
    "warnings.filterwarnings('ignore')\n",
    "from sklearn.preprocessing import LabelEncoder\n",
    "import numpy as np\n",
    "import pandas as pd\n",
    "import lightgbm\n",
    "from bayes_opt import BayesianOptimization\n",
    "from catboost import CatBoostClassifier, cv, Pool"
   ]
  },
  {
   "cell_type": "code",
   "execution_count": 3,
   "metadata": {
    "colab": {
     "base_uri": "https://localhost:8080/",
     "height": 85
    },
    "colab_type": "code",
    "id": "D16Dquw1AAK0",
    "outputId": "44167587-f22e-4bf5-a816-e2bcfdc6c4ee"
   },
   "outputs": [
    {
     "data": {
      "text/plain": [
       "['!st week.docx',\n",
       " '.ipynb_checkpoints',\n",
       " '04_preprocessing_and_training.ipynb',\n",
       " '1585247986_Frequentist_Case_Study (1).zip',\n",
       " '1585247986_Frequentist_Case_Study.zip',\n",
       " '1600185186_GridSearchKNN_Case_Study.zip',\n",
       " '1601612507_Gradient_Boosting_Case_Study_updated_10_01_2020.zip',\n",
       " '1602764303_Clustering_Case_Study_updated_10_15_2020 (1).zip',\n",
       " '1602764303_Clustering_Case_Study_updated_10_15_2020.zip',\n",
       " '1618932415_19042021_11.4.1_Case_Study_-_Linear_Regression_1_ (1).zip',\n",
       " '1618932415_19042021_11.4.1_Case_Study_-_Linear_Regression_1_.zip',\n",
       " '1661267173_Logistic_Regression_Advanced_Case_Study_-LU-_8_23.zip',\n",
       " '1720450277_Bayesian_Optimization.zip',\n",
       " '1723209039_Case_Study_-_Boston_Housing_Instructions (1).zip',\n",
       " '1723209039_Case_Study_-_Boston_Housing_Instructions.zip',\n",
       " '20151001hundehalter.csv',\n",
       " '25.4-20241127T004145Z-001.zip',\n",
       " 'Bayesian_optimization_case_study.ipynb',\n",
       " 'carbon.png',\n",
       " 'Carcrash.csv',\n",
       " 'Clustering Case Study - Customer Segmentation with K-Means - Tier 3 (1).ipynb',\n",
       " 'Clustering Case Study - Customer Segmentation with K-Means - Tier 3.ipynb',\n",
       " 'Cosine_Similarity_Case_Study (1).ipynb',\n",
       " 'Cosine_Similarity_Case_Study.ipynb',\n",
       " 'Crash_analyzed (1).xls',\n",
       " 'Crash_analyzed.xls',\n",
       " 'crash_frequency_by_month.png',\n",
       " 'crash_severity_distribution (1).png',\n",
       " 'crash_severity_distribution.png',\n",
       " 'Data Wrangling (1).ipynb',\n",
       " 'Data Wrangling.ipynb',\n",
       " 'desktop.ini',\n",
       " 'Euclidean_and_Manhattan_Distances_Case_Study.ipynb',\n",
       " 'Exploratory Data Analysis (1).ipynb',\n",
       " 'Exploratory Data Analysis (2).ipynb',\n",
       " 'Exploratory Data Analysis (3).ipynb',\n",
       " 'Exploratory Data Analysis.html',\n",
       " 'Exploratory Data Analysis.ipynb',\n",
       " 'Exploratory Data Analysis.pdf',\n",
       " 'Exploratory Data Analysis.zip',\n",
       " 'feature_correlation_heatmap.png',\n",
       " 'Frequentist Inference Case Study - Part A.ipynb',\n",
       " 'Frequentist Inference Case Study - Part B.ipynb',\n",
       " 'Gradient Boosting Case Study.ipynb',\n",
       " 'GridSearchKNN_Case_Study (1).ipynb',\n",
       " 'GridSearchKNN_Case_Study.ipynb',\n",
       " 'Health_AnimalBites.csv',\n",
       " 'histogram_road_type.png',\n",
       " 'histogram_speed_limit_crashes.png',\n",
       " 'histogram_weather_conditions (1).png',\n",
       " 'histogram_weather_conditions.png',\n",
       " 'Itinerary_MUSPRD_27SEP_KOILNAYAGAM.pdf',\n",
       " 'Logistic Regression Advanced Case Study.ipynb',\n",
       " 'Mini_Project_Linear_Regression (1).ipynb',\n",
       " 'Mini_Project_Linear_Regression.ipynb',\n",
       " 'missing_data_cleanup.png',\n",
       " 'Modeling 2.ipynb',\n",
       " 'Modeling.html',\n",
       " 'Modeling.ipynb',\n",
       " 'Modeling.pdf',\n",
       " 'Motor_Vehicle_Collisions_-_Crashes.csv',\n",
       " 'pdftoimage.zip',\n",
       " 'Preprocessing and Training Data (1).html',\n",
       " 'Preprocessing and Training Data (1).ipynb',\n",
       " 'Preprocessing and Training Data (1).pdf',\n",
       " 'Preprocessing and Training Data (2).ipynb',\n",
       " 'Preprocessing and Training Data.html',\n",
       " 'Preprocessing and Training Data.ipynb',\n",
       " 'Preprocessing and Training Data.pdf',\n",
       " 'RandomForest_casestudy_covid19.ipynb',\n",
       " 'Springboard Apps project - Tier 3 - Complete.ipynb',\n",
       " 'Springboard Decision Tree Specialty Coffee Case Study - Tier 3.ipynb',\n",
       " 'Springboard Regression Case Study - the Red Wine Dataset - Tier 3 (1).ipynb',\n",
       " 'Springboard Regression Case Study - the Red Wine Dataset - Tier 3.ipynb',\n",
       " 'SQLTasks Tier 2.sql',\n",
       " 'Starbucks Storytelling (1).pptx',\n",
       " 'Starbucks Storytelling.pptx',\n",
       " 'starbucks-menu-nutrition-drinks.csv',\n",
       " 'starbucks-menu-nutrition-food (1).csv',\n",
       " 'starbucks-menu-nutrition-food.csv',\n",
       " 'starbucks_nutrition_analysis.pptx',\n",
       " 'stations.csv',\n",
       " 'Untitled.ipynb',\n",
       " 'workspace.code-workspace']"
      ]
     },
     "execution_count": 3,
     "metadata": {},
     "output_type": "execute_result"
    }
   ],
   "source": [
    "import os\n",
    "os.listdir()"
   ]
  },
  {
   "cell_type": "markdown",
   "metadata": {
    "ExecuteTime": {
     "end_time": "2019-04-22T14:48:15.929012Z",
     "start_time": "2019-04-22T14:48:15.926574Z"
    },
    "colab_type": "text",
    "id": "AkBt3yds-KYu"
   },
   "source": [
    "## How does Bayesian optimization work?"
   ]
  },
  {
   "cell_type": "markdown",
   "metadata": {
    "colab_type": "text",
    "id": "E1kyBCUs-KYv"
   },
   "source": [
    "Bayesian optimization works by constructing a posterior distribution of functions (Gaussian process) that best describes the function you want to optimize. As the number of observations grows, the posterior distribution improves, and the algorithm becomes more certain of which regions in parameter space are worth exploring and which are not, as seen in the picture below."
   ]
  },
  {
   "cell_type": "markdown",
   "metadata": {
    "colab_type": "text",
    "id": "gAdHF72R-KYw"
   },
   "source": [
    "<img src=\"https://github.com/fmfn/BayesianOptimization/blob/master/examples/bo_example.png?raw=true\" />\n",
    "As you iterate over and over, the algorithm balances its needs of exploration and exploitation while taking into account what it knows about the target function. At each step, a Gaussian Process is fitted to the known samples (points previously explored), and the posterior distribution, combined with an exploration strategy (such as UCB — aka Upper Confidence Bound), or EI (Expected Improvement). This process is used to determine the next point that should be explored (see the gif below).\n",
    "<img src=\"https://github.com/fmfn/BayesianOptimization/raw/master/examples/bayesian_optimization.gif\" />"
   ]
  },
  {
   "cell_type": "markdown",
   "metadata": {
    "colab_type": "text",
    "id": "RTP8KUlLoYzu"
   },
   "source": [
    "## Let's look at a simple example"
   ]
  },
  {
   "cell_type": "markdown",
   "metadata": {
    "colab_type": "text",
    "id": "crpPqKdC-KYx"
   },
   "source": [
    "The first step is to create an optimizer. It uses two items:\n",
    "* function to optimize\n",
    "* bounds of parameters\n",
    "\n",
    "The function is the procedure that counts metrics of our model quality. The important thing is that our optimization will maximize the value on function. Smaller metrics are best. Hint: don't forget to use negative metric values."
   ]
  },
  {
   "cell_type": "markdown",
   "metadata": {
    "colab_type": "text",
    "id": "e09ciF8gpTfr"
   },
   "source": [
    "Here we define our simple function we want to optimize."
   ]
  },
  {
   "cell_type": "code",
   "execution_count": 4,
   "metadata": {
    "colab": {},
    "colab_type": "code",
    "id": "ofwvnfEwo5mG"
   },
   "outputs": [],
   "source": [
    "def simple_func(a, b):\n",
    "    return a + b"
   ]
  },
  {
   "cell_type": "markdown",
   "metadata": {
    "colab_type": "text",
    "id": "XCGsdciCpeI3"
   },
   "source": [
    "Now, we define our bounds of the parameters to optimize, within the Bayesian optimizer."
   ]
  },
  {
   "cell_type": "code",
   "execution_count": 5,
   "metadata": {
    "colab": {},
    "colab_type": "code",
    "id": "4jLYW2qnpOFr"
   },
   "outputs": [],
   "source": [
    "optimizer = BayesianOptimization(\n",
    "    simple_func,\n",
    "    {'a': (1, 3),\n",
    "    'b': (4, 7)})"
   ]
  },
  {
   "cell_type": "markdown",
   "metadata": {
    "colab_type": "text",
    "id": "dg6LdYx8pq2T"
   },
   "source": [
    "These are the main parameters of this function:\n",
    "\n",
    "* **n_iter:** This is how many steps of Bayesian optimization you want to perform. The more steps, the more likely you are to find a good maximum.\n",
    "\n",
    "* **init_points:** This is how many steps of random exploration you want to perform. Random exploration can help by diversifying the exploration space."
   ]
  },
  {
   "cell_type": "markdown",
   "metadata": {
    "colab_type": "text",
    "id": "i-GKMJ1uqMYv"
   },
   "source": [
    "Let's run an example where we use the optimizer to find the best values to maximize the target value for a and b given the inputs of 3 and 2."
   ]
  },
  {
   "cell_type": "code",
   "execution_count": 6,
   "metadata": {
    "colab": {
     "base_uri": "https://localhost:8080/",
     "height": 153
    },
    "colab_type": "code",
    "id": "Oy44Ro7wqNat",
    "outputId": "9cc64d54-b1e6-46d1-dc29-4c0039a1c72d"
   },
   "outputs": [
    {
     "name": "stdout",
     "output_type": "stream",
     "text": [
      "|   iter    |  target   |     a     |     b     |\n",
      "-------------------------------------------------\n",
      "| \u001b[39m1        \u001b[39m | \u001b[39m7.156    \u001b[39m | \u001b[39m2.977    \u001b[39m | \u001b[39m4.179    \u001b[39m |\n",
      "| \u001b[35m2        \u001b[39m | \u001b[35m9.108    \u001b[39m | \u001b[35m2.613    \u001b[39m | \u001b[35m6.495    \u001b[39m |\n",
      "| \u001b[39m3        \u001b[39m | \u001b[39m7.274    \u001b[39m | \u001b[39m1.649    \u001b[39m | \u001b[39m5.624    \u001b[39m |\n",
      "| \u001b[39m4        \u001b[39m | \u001b[39m5.731    \u001b[39m | \u001b[39m1.035    \u001b[39m | \u001b[39m4.696    \u001b[39m |\n",
      "| \u001b[39m5        \u001b[39m | \u001b[39m8.862    \u001b[39m | \u001b[39m1.864    \u001b[39m | \u001b[39m6.998    \u001b[39m |\n",
      "=================================================\n"
     ]
    }
   ],
   "source": [
    "optimizer.maximize(3,2)"
   ]
  },
  {
   "cell_type": "markdown",
   "metadata": {
    "colab_type": "text",
    "id": "tyKFMF2Hq2Sx"
   },
   "source": [
    "Great, now let's print the best parameters and the associated maximized target."
   ]
  },
  {
   "cell_type": "code",
   "execution_count": 7,
   "metadata": {
    "colab": {
     "base_uri": "https://localhost:8080/",
     "height": 51
    },
    "colab_type": "code",
    "id": "_H6DixyfscV_",
    "outputId": "fd0c35d7-e30d-4d30-9ab2-12c0fa837971"
   },
   "outputs": [
    {
     "name": "stdout",
     "output_type": "stream",
     "text": [
      "{'a': 2.6134508741081515, 'b': 6.494664284381583}\n"
     ]
    },
    {
     "data": {
      "text/plain": [
       "9.108115158489735"
      ]
     },
     "execution_count": 7,
     "metadata": {},
     "output_type": "execute_result"
    }
   ],
   "source": [
    "print(optimizer.max['params']);optimizer.max['target']"
   ]
  },
  {
   "cell_type": "markdown",
   "metadata": {
    "colab_type": "text",
    "id": "tQ1T1V6Mspi4"
   },
   "source": [
    "## Test it on real data using the Light GBM"
   ]
  },
  {
   "cell_type": "markdown",
   "metadata": {
    "colab_type": "text",
    "id": "y_oGwREZkm4h"
   },
   "source": [
    "The dataset we will be working with is the famous flight departures dataset. Our modeling goal will be to predict if a flight departure is going to be delayed by 15 minutes based on the other attributes in our dataset. As part of this modeling exercise, we will use Bayesian hyperparameter optimization to identify the best parameters for our model."
   ]
  },
  {
   "cell_type": "markdown",
   "metadata": {
    "colab_type": "text",
    "id": "abYSagjQANDZ"
   },
   "source": [
    "**<font color='teal'> You can load the zipped csv files just as you would regular csv files using Pandas read_csv. In the next cell load the train and test data into two seperate dataframes. </font>**\n"
   ]
  },
  {
   "cell_type": "code",
   "execution_count": 9,
   "metadata": {
    "colab": {},
    "colab_type": "code",
    "id": "EWKBApVuAeJe"
   },
   "outputs": [],
   "source": [
    "train_df = pd.read_csv('flight_delays_train.csv')\n",
    "test_df = pd.read_csv('flight_delays_test.csv')"
   ]
  },
  {
   "cell_type": "markdown",
   "metadata": {
    "colab_type": "text",
    "id": "OapNcT9Eikis"
   },
   "source": [
    "**<font color='teal'> Print the top five rows of the train dataframe and review the columns in the data. </font>**"
   ]
  },
  {
   "cell_type": "code",
   "execution_count": 10,
   "metadata": {
    "colab": {
     "base_uri": "https://localhost:8080/",
     "height": 204
    },
    "colab_type": "code",
    "id": "__4cXZ8iiYaC",
    "outputId": "8718ad4b-8955-486c-9ae8-1dee6aa6c2fb"
   },
   "outputs": [
    {
     "data": {
      "text/html": [
       "<div>\n",
       "<style scoped>\n",
       "    .dataframe tbody tr th:only-of-type {\n",
       "        vertical-align: middle;\n",
       "    }\n",
       "\n",
       "    .dataframe tbody tr th {\n",
       "        vertical-align: top;\n",
       "    }\n",
       "\n",
       "    .dataframe thead th {\n",
       "        text-align: right;\n",
       "    }\n",
       "</style>\n",
       "<table border=\"1\" class=\"dataframe\">\n",
       "  <thead>\n",
       "    <tr style=\"text-align: right;\">\n",
       "      <th></th>\n",
       "      <th>Month</th>\n",
       "      <th>DayofMonth</th>\n",
       "      <th>DayOfWeek</th>\n",
       "      <th>DepTime</th>\n",
       "      <th>UniqueCarrier</th>\n",
       "      <th>Origin</th>\n",
       "      <th>Dest</th>\n",
       "      <th>Distance</th>\n",
       "      <th>dep_delayed_15min</th>\n",
       "    </tr>\n",
       "  </thead>\n",
       "  <tbody>\n",
       "    <tr>\n",
       "      <th>0</th>\n",
       "      <td>c-8</td>\n",
       "      <td>c-21</td>\n",
       "      <td>c-7</td>\n",
       "      <td>1934</td>\n",
       "      <td>AA</td>\n",
       "      <td>ATL</td>\n",
       "      <td>DFW</td>\n",
       "      <td>732</td>\n",
       "      <td>N</td>\n",
       "    </tr>\n",
       "    <tr>\n",
       "      <th>1</th>\n",
       "      <td>c-4</td>\n",
       "      <td>c-20</td>\n",
       "      <td>c-3</td>\n",
       "      <td>1548</td>\n",
       "      <td>US</td>\n",
       "      <td>PIT</td>\n",
       "      <td>MCO</td>\n",
       "      <td>834</td>\n",
       "      <td>N</td>\n",
       "    </tr>\n",
       "    <tr>\n",
       "      <th>2</th>\n",
       "      <td>c-9</td>\n",
       "      <td>c-2</td>\n",
       "      <td>c-5</td>\n",
       "      <td>1422</td>\n",
       "      <td>XE</td>\n",
       "      <td>RDU</td>\n",
       "      <td>CLE</td>\n",
       "      <td>416</td>\n",
       "      <td>N</td>\n",
       "    </tr>\n",
       "    <tr>\n",
       "      <th>3</th>\n",
       "      <td>c-11</td>\n",
       "      <td>c-25</td>\n",
       "      <td>c-6</td>\n",
       "      <td>1015</td>\n",
       "      <td>OO</td>\n",
       "      <td>DEN</td>\n",
       "      <td>MEM</td>\n",
       "      <td>872</td>\n",
       "      <td>N</td>\n",
       "    </tr>\n",
       "    <tr>\n",
       "      <th>4</th>\n",
       "      <td>c-10</td>\n",
       "      <td>c-7</td>\n",
       "      <td>c-6</td>\n",
       "      <td>1828</td>\n",
       "      <td>WN</td>\n",
       "      <td>MDW</td>\n",
       "      <td>OMA</td>\n",
       "      <td>423</td>\n",
       "      <td>Y</td>\n",
       "    </tr>\n",
       "  </tbody>\n",
       "</table>\n",
       "</div>"
      ],
      "text/plain": [
       "  Month DayofMonth DayOfWeek  DepTime UniqueCarrier Origin Dest  Distance  \\\n",
       "0   c-8       c-21       c-7     1934            AA    ATL  DFW       732   \n",
       "1   c-4       c-20       c-3     1548            US    PIT  MCO       834   \n",
       "2   c-9        c-2       c-5     1422            XE    RDU  CLE       416   \n",
       "3  c-11       c-25       c-6     1015            OO    DEN  MEM       872   \n",
       "4  c-10        c-7       c-6     1828            WN    MDW  OMA       423   \n",
       "\n",
       "  dep_delayed_15min  \n",
       "0                 N  \n",
       "1                 N  \n",
       "2                 N  \n",
       "3                 N  \n",
       "4                 Y  "
      ]
     },
     "execution_count": 10,
     "metadata": {},
     "output_type": "execute_result"
    }
   ],
   "source": [
    "train_df.head()"
   ]
  },
  {
   "cell_type": "markdown",
   "metadata": {
    "colab_type": "text",
    "id": "UxGBsPQhffgd"
   },
   "source": [
    "**<font color='teal'> Use the describe function to review the numeric columns in the train dataframe. </font>**"
   ]
  },
  {
   "cell_type": "code",
   "execution_count": 11,
   "metadata": {
    "colab": {
     "base_uri": "https://localhost:8080/",
     "height": 297
    },
    "colab_type": "code",
    "id": "_bRRKG3DAtae",
    "outputId": "7cfb9975-ec97-422c-abbd-98923a0b7aec"
   },
   "outputs": [
    {
     "data": {
      "text/html": [
       "<div>\n",
       "<style scoped>\n",
       "    .dataframe tbody tr th:only-of-type {\n",
       "        vertical-align: middle;\n",
       "    }\n",
       "\n",
       "    .dataframe tbody tr th {\n",
       "        vertical-align: top;\n",
       "    }\n",
       "\n",
       "    .dataframe thead th {\n",
       "        text-align: right;\n",
       "    }\n",
       "</style>\n",
       "<table border=\"1\" class=\"dataframe\">\n",
       "  <thead>\n",
       "    <tr style=\"text-align: right;\">\n",
       "      <th></th>\n",
       "      <th>DepTime</th>\n",
       "      <th>Distance</th>\n",
       "    </tr>\n",
       "  </thead>\n",
       "  <tbody>\n",
       "    <tr>\n",
       "      <th>count</th>\n",
       "      <td>100000.000000</td>\n",
       "      <td>100000.00000</td>\n",
       "    </tr>\n",
       "    <tr>\n",
       "      <th>mean</th>\n",
       "      <td>1341.523880</td>\n",
       "      <td>729.39716</td>\n",
       "    </tr>\n",
       "    <tr>\n",
       "      <th>std</th>\n",
       "      <td>476.378445</td>\n",
       "      <td>574.61686</td>\n",
       "    </tr>\n",
       "    <tr>\n",
       "      <th>min</th>\n",
       "      <td>1.000000</td>\n",
       "      <td>30.00000</td>\n",
       "    </tr>\n",
       "    <tr>\n",
       "      <th>25%</th>\n",
       "      <td>931.000000</td>\n",
       "      <td>317.00000</td>\n",
       "    </tr>\n",
       "    <tr>\n",
       "      <th>50%</th>\n",
       "      <td>1330.000000</td>\n",
       "      <td>575.00000</td>\n",
       "    </tr>\n",
       "    <tr>\n",
       "      <th>75%</th>\n",
       "      <td>1733.000000</td>\n",
       "      <td>957.00000</td>\n",
       "    </tr>\n",
       "    <tr>\n",
       "      <th>max</th>\n",
       "      <td>2534.000000</td>\n",
       "      <td>4962.00000</td>\n",
       "    </tr>\n",
       "  </tbody>\n",
       "</table>\n",
       "</div>"
      ],
      "text/plain": [
       "             DepTime      Distance\n",
       "count  100000.000000  100000.00000\n",
       "mean     1341.523880     729.39716\n",
       "std       476.378445     574.61686\n",
       "min         1.000000      30.00000\n",
       "25%       931.000000     317.00000\n",
       "50%      1330.000000     575.00000\n",
       "75%      1733.000000     957.00000\n",
       "max      2534.000000    4962.00000"
      ]
     },
     "execution_count": 11,
     "metadata": {},
     "output_type": "execute_result"
    }
   ],
   "source": [
    "train_df.describe()"
   ]
  },
  {
   "cell_type": "markdown",
   "metadata": {
    "colab_type": "text",
    "id": "i6k-_fI5Aiyh"
   },
   "source": [
    "Notice, `DepTime` is the departure time in a numeric representation in 2400 hours. "
   ]
  },
  {
   "cell_type": "markdown",
   "metadata": {
    "colab_type": "text",
    "id": "gtZS4-hrlQah"
   },
   "source": [
    " **<font color='teal'>The response variable is 'dep_delayed_15min' which is a categorical column, so we need to map the Y for yes and N for no values to 1 and 0. Run the code in the next cell to do this.</font>**"
   ]
  },
  {
   "cell_type": "code",
   "execution_count": 12,
   "metadata": {
    "ExecuteTime": {
     "end_time": "2019-04-22T15:38:42.677690Z",
     "start_time": "2019-04-22T15:38:42.481963Z"
    },
    "colab": {},
    "colab_type": "code",
    "id": "yRlOTbnW-KYc"
   },
   "outputs": [],
   "source": [
    "#train_df = train_df[train_df.DepTime <= 2400].copy()\n",
    "y_train = train_df['dep_delayed_15min'].map({'Y': 1, 'N': 0}).values"
   ]
  },
  {
   "cell_type": "markdown",
   "metadata": {
    "colab_type": "text",
    "id": "z3WPkFQO9uo9"
   },
   "source": [
    "## Feature Engineering\n",
    "Use these defined functions to create additional features for the model. Run the cell to add the functions to your workspace."
   ]
  },
  {
   "cell_type": "code",
   "execution_count": 13,
   "metadata": {
    "colab": {},
    "colab_type": "code",
    "id": "cXqsqz5W9t3r"
   },
   "outputs": [],
   "source": [
    "def label_enc(df_column):\n",
    "    df_column = LabelEncoder().fit_transform(df_column)\n",
    "    return df_column\n",
    "\n",
    "def make_harmonic_features_sin(value, period=2400):\n",
    "    value *= 2 * np.pi / period \n",
    "    return np.sin(value)\n",
    "\n",
    "def make_harmonic_features_cos(value, period=2400):\n",
    "    value *= 2 * np.pi / period \n",
    "    return np.cos(value)\n",
    "\n",
    "def feature_eng(df):\n",
    "    df['flight'] = df['Origin']+df['Dest']\n",
    "    df['Month'] = df.Month.map(lambda x: x.split('-')[-1]).astype('int32')\n",
    "    df['DayofMonth'] = df.DayofMonth.map(lambda x: x.split('-')[-1]).astype('uint8')\n",
    "    df['begin_of_month'] = (df['DayofMonth'] < 10).astype('uint8')\n",
    "    df['midddle_of_month'] = ((df['DayofMonth'] >= 10)&(df['DayofMonth'] < 20)).astype('uint8')\n",
    "    df['end_of_month'] = (df['DayofMonth'] >= 20).astype('uint8')\n",
    "    df['DayOfWeek'] = df.DayOfWeek.map(lambda x: x.split('-')[-1]).astype('uint8')\n",
    "    df['hour'] = df.DepTime.map(lambda x: x/100).astype('int32')\n",
    "    df['morning'] = df['hour'].map(lambda x: 1 if (x <= 11)& (x >= 7) else 0).astype('uint8')\n",
    "    df['day'] = df['hour'].map(lambda x: 1 if (x >= 12) & (x <= 18) else 0).astype('uint8')\n",
    "    df['evening'] = df['hour'].map(lambda x: 1 if (x >= 19) & (x <= 23) else 0).astype('uint8')\n",
    "    df['night'] = df['hour'].map(lambda x: 1 if (x >= 0) & (x <= 6) else 0).astype('int32')\n",
    "    df['winter'] = df['Month'].map(lambda x: x in [12, 1, 2]).astype('int32')\n",
    "    df['spring'] = df['Month'].map(lambda x: x in [3, 4, 5]).astype('int32')\n",
    "    df['summer'] = df['Month'].map(lambda x: x in [6, 7, 8]).astype('int32')\n",
    "    df['autumn'] = df['Month'].map(lambda x: x in [9, 10, 11]).astype('int32')\n",
    "    df['holiday'] = (df['DayOfWeek'] >= 5).astype(int) \n",
    "    df['weekday'] = (df['DayOfWeek'] < 5).astype(int)\n",
    "    df['airport_dest_per_month'] = df.groupby(['Dest', 'Month'])['Dest'].transform('count')\n",
    "    df['airport_origin_per_month'] = df.groupby(['Origin', 'Month'])['Origin'].transform('count')\n",
    "    df['airport_dest_count'] = df.groupby(['Dest'])['Dest'].transform('count')\n",
    "    df['airport_origin_count'] = df.groupby(['Origin'])['Origin'].transform('count')\n",
    "    df['carrier_count'] = df.groupby(['UniqueCarrier'])['Dest'].transform('count')\n",
    "    df['carrier_count_per month'] = df.groupby(['UniqueCarrier', 'Month'])['Dest'].transform('count')\n",
    "    df['deptime_cos'] = df['DepTime'].map(make_harmonic_features_cos)\n",
    "    df['deptime_sin'] = df['DepTime'].map(make_harmonic_features_sin)\n",
    "    df['flightUC'] = df['flight']+df['UniqueCarrier']\n",
    "    df['DestUC'] = df['Dest']+df['UniqueCarrier']\n",
    "    df['OriginUC'] = df['Origin']+df['UniqueCarrier']\n",
    "    return df.drop('DepTime', axis=1)"
   ]
  },
  {
   "cell_type": "markdown",
   "metadata": {
    "colab_type": "text",
    "id": "-BYbxXpU-FGE"
   },
   "source": [
    "Concatenate the training and testing dataframes.\n"
   ]
  },
  {
   "cell_type": "code",
   "execution_count": 14,
   "metadata": {
    "colab": {},
    "colab_type": "code",
    "id": "Cj6bfSNw_RAf"
   },
   "outputs": [],
   "source": [
    "full_df = pd.concat([train_df.drop('dep_delayed_15min', axis=1), test_df])\n",
    "full_df = feature_eng(full_df)"
   ]
  },
  {
   "cell_type": "markdown",
   "metadata": {
    "colab_type": "text",
    "id": "GSO8JbfM_W-F"
   },
   "source": [
    "Apply the earlier defined feature engineering functions to the full dataframe."
   ]
  },
  {
   "cell_type": "code",
   "execution_count": 15,
   "metadata": {
    "colab": {},
    "colab_type": "code",
    "id": "x6RfAINftjwi"
   },
   "outputs": [],
   "source": [
    "for column in ['UniqueCarrier', 'Origin', 'Dest','flight',  'flightUC', 'DestUC', 'OriginUC']:\n",
    "    full_df[column] = label_enc(full_df[column])"
   ]
  },
  {
   "cell_type": "markdown",
   "metadata": {
    "colab_type": "text",
    "id": "IJAw1RGB_ZuM"
   },
   "source": [
    "\n",
    "Split the new full dataframe into X_train and X_test. "
   ]
  },
  {
   "cell_type": "code",
   "execution_count": 16,
   "metadata": {
    "colab": {},
    "colab_type": "code",
    "id": "15cPtQU5tjfz"
   },
   "outputs": [],
   "source": [
    "X_train = full_df[:train_df.shape[0]]\n",
    "X_test = full_df[train_df.shape[0]:]"
   ]
  },
  {
   "cell_type": "markdown",
   "metadata": {
    "colab_type": "text",
    "id": "umfAw-9JErLV"
   },
   "source": [
    "Create a list of the categorical features."
   ]
  },
  {
   "cell_type": "code",
   "execution_count": 17,
   "metadata": {
    "ExecuteTime": {
     "end_time": "2019-04-22T14:31:58.412296Z",
     "start_time": "2019-04-22T14:31:58.409088Z"
    },
    "colab": {},
    "colab_type": "code",
    "id": "5ibeVyNb-KZI"
   },
   "outputs": [],
   "source": [
    "categorical_features = ['Month',  'DayOfWeek', 'UniqueCarrier', 'Origin', 'Dest','flight',  'flightUC', 'DestUC', 'OriginUC']"
   ]
  },
  {
   "cell_type": "markdown",
   "metadata": {
    "colab_type": "text",
    "id": "NzMIsMPIETVk"
   },
   "source": [
    "Let's build a light GBM model to test the bayesian optimizer."
   ]
  },
  {
   "cell_type": "markdown",
   "metadata": {
    "ExecuteTime": {
     "end_time": "2019-04-22T15:18:04.466965Z",
     "start_time": "2019-04-22T15:18:04.457992Z"
    },
    "colab_type": "text",
    "id": "2hfm1i5G-KZH"
   },
   "source": [
    "### [LightGBM](https://lightgbm.readthedocs.io/en/latest/) is a gradient boosting framework that uses tree-based learning algorithms. It is designed to be distributed and efficient with the following advantages:\n",
    "\n",
    "* Faster training speed and higher efficiency.\n",
    "* Lower memory usage.\n",
    "* Better accuracy.\n",
    "* Support of parallel and GPU learning.\n",
    "* Capable of handling large-scale data."
   ]
  },
  {
   "cell_type": "markdown",
   "metadata": {
    "colab_type": "text",
    "id": "jf-3F2Wg-KZL"
   },
   "source": [
    "First, we define the function we want to maximize and that will count cross-validation metrics of lightGBM for our parameters.\n",
    "\n",
    "Some params such as num_leaves, max_depth, min_child_samples, min_data_in_leaf should be integers."
   ]
  },
  {
   "cell_type": "code",
   "execution_count": 18,
   "metadata": {
    "ExecuteTime": {
     "end_time": "2019-04-22T15:40:14.034265Z",
     "start_time": "2019-04-22T15:40:14.027868Z"
    },
    "colab": {},
    "colab_type": "code",
    "id": "LyUJBhGX-KZM"
   },
   "outputs": [],
   "source": [
    "def lgb_eval(num_leaves,max_depth,lambda_l2,lambda_l1,min_child_samples, min_data_in_leaf):\n",
    "    params = {\n",
    "        \"objective\" : \"binary\",\n",
    "        \"metric\" : \"auc\", \n",
    "        'is_unbalance': True,\n",
    "        \"num_leaves\" : int(num_leaves),\n",
    "        \"max_depth\" : int(max_depth),\n",
    "        \"lambda_l2\" : lambda_l2,\n",
    "        \"lambda_l1\" : lambda_l1,\n",
    "        \"num_threads\" : 20,\n",
    "        \"min_child_samples\" : int(min_child_samples),\n",
    "        'min_data_in_leaf': int(min_data_in_leaf),\n",
    "        \"learning_rate\" : 0.03,\n",
    "        \"subsample_freq\" : 5,\n",
    "        \"bagging_seed\" : 42,\n",
    "        \"verbosity\" : -1\n",
    "    }\n",
    "    lgtrain = lightgbm.Dataset(X_train, y_train,categorical_feature=categorical_features)\n",
    "    cv_result = lightgbm.cv(params,\n",
    "                       lgtrain,\n",
    "                       1000,\n",
    "                       stratified=True,\n",
    "                       nfold=3)\n",
    "    return cv_result['valid auc-mean'][-1]"
   ]
  },
  {
   "cell_type": "markdown",
   "metadata": {
    "colab_type": "text",
    "id": "FJwqBhdeF11Q"
   },
   "source": [
    "Apply the Bayesian optimizer to the function we created in the previous step to identify the best hyperparameters. We will run 5 iterations and set init_points = 2.\n"
   ]
  },
  {
   "cell_type": "code",
   "execution_count": 19,
   "metadata": {
    "ExecuteTime": {
     "end_time": "2019-04-22T15:48:04.682447Z",
     "start_time": "2019-04-22T15:40:14.641634Z"
    },
    "colab": {
     "base_uri": "https://localhost:8080/",
     "height": 51
    },
    "colab_type": "code",
    "id": "JheCOkUE-KZP",
    "outputId": "8f37ee51-885d-44e4-cdcd-ceb7abd58b61"
   },
   "outputs": [
    {
     "name": "stdout",
     "output_type": "stream",
     "text": [
      "|   iter    |  target   | lambda_l1 | lambda_l2 | max_depth | min_ch... | min_da... | num_le... |\n",
      "-------------------------------------------------------------------------------------------------\n",
      "| \u001b[39m1        \u001b[39m | \u001b[39m0.7217   \u001b[39m | \u001b[39m0.02489  \u001b[39m | \u001b[39m0.04451  \u001b[39m | \u001b[39m54.81    \u001b[39m | \u001b[39m9.385e+03\u001b[39m | \u001b[39m896.1    \u001b[39m | \u001b[39m3.019e+03\u001b[39m |\n",
      "| \u001b[39m2        \u001b[39m | \u001b[39m0.7021   \u001b[39m | \u001b[39m0.005375 \u001b[39m | \u001b[39m0.01101  \u001b[39m | \u001b[39m29.56    \u001b[39m | \u001b[39m3.825e+03\u001b[39m | \u001b[39m399.6    \u001b[39m | \u001b[39m698.2    \u001b[39m |\n",
      "| \u001b[35m3        \u001b[39m | \u001b[35m0.7412   \u001b[39m | \u001b[35m0.0296   \u001b[39m | \u001b[35m0.04577  \u001b[39m | \u001b[35m5.199    \u001b[39m | \u001b[35m7.22e+03 \u001b[39m | \u001b[35m1.33e+03 \u001b[39m | \u001b[35m3.66e+03 \u001b[39m |\n",
      "| \u001b[35m4        \u001b[39m | \u001b[35m0.7432   \u001b[39m | \u001b[35m0.005126 \u001b[39m | \u001b[35m0.04484  \u001b[39m | \u001b[35m16.4     \u001b[39m | \u001b[35m6.668e+03\u001b[39m | \u001b[35m1.35e+03 \u001b[39m | \u001b[35m3.973e+03\u001b[39m |\n",
      "| \u001b[39m5        \u001b[39m | \u001b[39m0.7428   \u001b[39m | \u001b[39m0.0308   \u001b[39m | \u001b[39m0.002684 \u001b[39m | \u001b[39m43.36    \u001b[39m | \u001b[39m7.604e+03\u001b[39m | \u001b[39m1.264e+03\u001b[39m | \u001b[39m1.314e+03\u001b[39m |\n",
      "| \u001b[39m6        \u001b[39m | \u001b[39m0.7425   \u001b[39m | \u001b[39m0.01867  \u001b[39m | \u001b[39m0.007047 \u001b[39m | \u001b[39m43.07    \u001b[39m | \u001b[39m7.61e+03 \u001b[39m | \u001b[39m1.22e+03 \u001b[39m | \u001b[39m1.444e+03\u001b[39m |\n",
      "| \u001b[35m7        \u001b[39m | \u001b[35m0.7435   \u001b[39m | \u001b[35m0.04649  \u001b[39m | \u001b[35m0.006317 \u001b[39m | \u001b[35m55.93    \u001b[39m | \u001b[35m254.7    \u001b[39m | \u001b[35m1.435e+03\u001b[39m | \u001b[35m3.995e+03\u001b[39m |\n",
      "=================================================================================================\n"
     ]
    }
   ],
   "source": [
    "lgbBO = BayesianOptimization(lgb_eval, {'num_leaves': (25, 4000),\n",
    "                                                'max_depth': (5, 63),\n",
    "                                                'lambda_l2': (0.0, 0.05),\n",
    "                                                'lambda_l1': (0.0, 0.05),\n",
    "                                                'min_child_samples': (50, 10000),\n",
    "                                                'min_data_in_leaf': (100, 2000)\n",
    "                                                })\n",
    "\n",
    "lgbBO.maximize(n_iter=5, init_points=2)"
   ]
  },
  {
   "cell_type": "markdown",
   "metadata": {
    "colab_type": "text",
    "id": "rdkxhhST-KZS"
   },
   "source": [
    " **<font color='teal'> Print the best result by using the '.max' function.</font>**"
   ]
  },
  {
   "cell_type": "code",
   "execution_count": 20,
   "metadata": {
    "ExecuteTime": {
     "end_time": "2019-04-22T15:49:01.513767Z",
     "start_time": "2019-04-22T15:49:01.509392Z"
    },
    "colab": {},
    "colab_type": "code",
    "id": "oc8z6mfy-KZS"
   },
   "outputs": [
    {
     "data": {
      "text/plain": [
       "{'target': 0.7435187110215149,\n",
       " 'params': {'lambda_l1': 0.046491253669050596,\n",
       "  'lambda_l2': 0.006317487448177623,\n",
       "  'max_depth': 55.9306032415344,\n",
       "  'min_child_samples': 254.7448338859945,\n",
       "  'min_data_in_leaf': 1434.811003102949,\n",
       "  'num_leaves': 3995.200820324957}}"
      ]
     },
     "execution_count": 20,
     "metadata": {},
     "output_type": "execute_result"
    }
   ],
   "source": [
    "lgbBO.max"
   ]
  },
  {
   "cell_type": "markdown",
   "metadata": {
    "ExecuteTime": {
     "end_time": "2019-04-22T15:50:29.049881Z",
     "start_time": "2019-04-22T15:50:29.045908Z"
    },
    "colab_type": "text",
    "id": "J5LAydKC-KZW"
   },
   "source": [
    "Review the process at each step by using the '.res[0]' function."
   ]
  },
  {
   "cell_type": "code",
   "execution_count": 21,
   "metadata": {
    "ExecuteTime": {
     "end_time": "2019-04-22T15:51:01.001688Z",
     "start_time": "2019-04-22T15:51:00.997484Z"
    },
    "colab": {},
    "colab_type": "code",
    "id": "X1ttZmrI-KZX"
   },
   "outputs": [
    {
     "data": {
      "text/plain": [
       "{'target': 0.7217214209584979,\n",
       " 'params': {'lambda_l1': 0.024892004993300295,\n",
       "  'lambda_l2': 0.04451093552337647,\n",
       "  'max_depth': 54.813876819210925,\n",
       "  'min_child_samples': 9385.445299968645,\n",
       "  'min_data_in_leaf': 896.129303232218,\n",
       "  'num_leaves': 3019.0295803027625}}"
      ]
     },
     "execution_count": 21,
     "metadata": {},
     "output_type": "execute_result"
    }
   ],
   "source": [
    "lgbBO.res[0]"
   ]
  }
 ],
 "metadata": {
  "colab": {
   "name": "Bayesian_optimization_exercise.ipynb",
   "provenance": []
  },
  "deepnote_execution_queue": [],
  "kernelspec": {
   "display_name": "Python 3 (ipykernel)",
   "language": "python",
   "name": "python3"
  },
  "language_info": {
   "codemirror_mode": {
    "name": "ipython",
    "version": 3
   },
   "file_extension": ".py",
   "mimetype": "text/x-python",
   "name": "python",
   "nbconvert_exporter": "python",
   "pygments_lexer": "ipython3",
   "version": "3.11.7"
  },
  "varInspector": {
   "cols": {
    "lenName": 16,
    "lenType": 16,
    "lenVar": 40
   },
   "kernels_config": {
    "python": {
     "delete_cmd_postfix": "",
     "delete_cmd_prefix": "del ",
     "library": "var_list.py",
     "varRefreshCmd": "print(var_dic_list())"
    },
    "r": {
     "delete_cmd_postfix": ") ",
     "delete_cmd_prefix": "rm(",
     "library": "var_list.r",
     "varRefreshCmd": "cat(var_dic_list()) "
    }
   },
   "types_to_exclude": [
    "module",
    "function",
    "builtin_function_or_method",
    "instance",
    "_Feature"
   ],
   "window_display": false
  }
 },
 "nbformat": 4,
 "nbformat_minor": 4
}
